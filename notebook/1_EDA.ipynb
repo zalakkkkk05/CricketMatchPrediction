{
 "cells": [
  {
   "cell_type": "code",
   "execution_count": 3,
   "metadata": {},
   "outputs": [],
   "source": [
    "import pandas as pd\n",
    "import matplotlib.pyplot as plt\n",
    "import seaborn as sns"
   ]
  },
  {
   "cell_type": "code",
   "execution_count": 5,
   "metadata": {},
   "outputs": [
    {
     "name": "stdout",
     "output_type": "stream",
     "text": [
      "Deliveries Data:\n",
      "   match_id  inning         batting_team                 bowling_team  over  \\\n",
      "0         1       1  Sunrisers Hyderabad  Royal Challengers Bangalore     1   \n",
      "1         1       1  Sunrisers Hyderabad  Royal Challengers Bangalore     1   \n",
      "2         1       1  Sunrisers Hyderabad  Royal Challengers Bangalore     1   \n",
      "3         1       1  Sunrisers Hyderabad  Royal Challengers Bangalore     1   \n",
      "4         1       1  Sunrisers Hyderabad  Royal Challengers Bangalore     1   \n",
      "\n",
      "   ball    batsman non_striker    bowler  is_super_over  ...  bye_runs  \\\n",
      "0     1  DA Warner    S Dhawan  TS Mills              0  ...         0   \n",
      "1     2  DA Warner    S Dhawan  TS Mills              0  ...         0   \n",
      "2     3  DA Warner    S Dhawan  TS Mills              0  ...         0   \n",
      "3     4  DA Warner    S Dhawan  TS Mills              0  ...         0   \n",
      "4     5  DA Warner    S Dhawan  TS Mills              0  ...         0   \n",
      "\n",
      "   legbye_runs  noball_runs  penalty_runs  batsman_runs  extra_runs  \\\n",
      "0            0            0             0             0           0   \n",
      "1            0            0             0             0           0   \n",
      "2            0            0             0             4           0   \n",
      "3            0            0             0             0           0   \n",
      "4            0            0             0             0           2   \n",
      "\n",
      "   total_runs  player_dismissed dismissal_kind fielder  \n",
      "0           0               NaN            NaN     NaN  \n",
      "1           0               NaN            NaN     NaN  \n",
      "2           4               NaN            NaN     NaN  \n",
      "3           0               NaN            NaN     NaN  \n",
      "4           2               NaN            NaN     NaN  \n",
      "\n",
      "[5 rows x 21 columns]\n",
      "\n",
      "Matches Data:\n",
      "   id  season       city        date                        team1  \\\n",
      "0   1    2017  Hyderabad  2017-04-05          Sunrisers Hyderabad   \n",
      "1   2    2017       Pune  2017-04-06               Mumbai Indians   \n",
      "2   3    2017     Rajkot  2017-04-07                Gujarat Lions   \n",
      "3   4    2017     Indore  2017-04-08       Rising Pune Supergiant   \n",
      "4   5    2017  Bangalore  2017-04-08  Royal Challengers Bangalore   \n",
      "\n",
      "                         team2                  toss_winner toss_decision  \\\n",
      "0  Royal Challengers Bangalore  Royal Challengers Bangalore         field   \n",
      "1       Rising Pune Supergiant       Rising Pune Supergiant         field   \n",
      "2        Kolkata Knight Riders        Kolkata Knight Riders         field   \n",
      "3              Kings XI Punjab              Kings XI Punjab         field   \n",
      "4             Delhi Daredevils  Royal Challengers Bangalore           bat   \n",
      "\n",
      "   result  dl_applied                       winner  win_by_runs  \\\n",
      "0  normal           0          Sunrisers Hyderabad           35   \n",
      "1  normal           0       Rising Pune Supergiant            0   \n",
      "2  normal           0        Kolkata Knight Riders            0   \n",
      "3  normal           0              Kings XI Punjab            0   \n",
      "4  normal           0  Royal Challengers Bangalore           15   \n",
      "\n",
      "   win_by_wickets player_of_match                                      venue  \\\n",
      "0               0    Yuvraj Singh  Rajiv Gandhi International Stadium, Uppal   \n",
      "1               7       SPD Smith    Maharashtra Cricket Association Stadium   \n",
      "2              10         CA Lynn     Saurashtra Cricket Association Stadium   \n",
      "3               6      GJ Maxwell                     Holkar Cricket Stadium   \n",
      "4               0       KM Jadhav                      M Chinnaswamy Stadium   \n",
      "\n",
      "          umpire1        umpire2 umpire3  \n",
      "0     AY Dandekar       NJ Llong     NaN  \n",
      "1  A Nand Kishore         S Ravi     NaN  \n",
      "2     Nitin Menon      CK Nandan     NaN  \n",
      "3    AK Chaudhary  C Shamshuddin     NaN  \n",
      "4             NaN            NaN     NaN  \n"
     ]
    }
   ],
   "source": [
    "# Load the datasets\n",
    "# Update with the correct file path\n",
    "deliveries_df = pd.read_csv('d:/CricketMatchPrediction/dataset/deliveries.csv')\n",
    "matches_df = pd.read_csv('d:/CricketMatchPrediction/dataset/matches.csv')\n",
    "\n",
    "# Display the first few rows of both datasets\n",
    "print(\"Deliveries Data:\")\n",
    "print(deliveries_df.head())\n",
    "\n",
    "print(\"\\nMatches Data:\")\n",
    "print(matches_df.head())\n"
   ]
  },
  {
   "cell_type": "code",
   "execution_count": 6,
   "metadata": {},
   "outputs": [
    {
     "name": "stdout",
     "output_type": "stream",
     "text": [
      "\n",
      "Missing Values in Deliveries Dataset:\n",
      "match_id                 0\n",
      "inning                   0\n",
      "batting_team             0\n",
      "bowling_team             0\n",
      "over                     0\n",
      "ball                     0\n",
      "batsman                  0\n",
      "non_striker              0\n",
      "bowler                   0\n",
      "is_super_over            0\n",
      "wide_runs                0\n",
      "bye_runs                 0\n",
      "legbye_runs              0\n",
      "noball_runs              0\n",
      "penalty_runs             0\n",
      "batsman_runs             0\n",
      "extra_runs               0\n",
      "total_runs               0\n",
      "player_dismissed    143022\n",
      "dismissal_kind      143022\n",
      "fielder             145091\n",
      "dtype: int64\n"
     ]
    }
   ],
   "source": [
    "# Check for missing values in Deliveries and Matches dataset\n",
    "print(\"\\nMissing Values in Deliveries Dataset:\")\n",
    "print(deliveries_df.isnull().sum())"
   ]
  },
  {
   "cell_type": "code",
   "execution_count": 7,
   "metadata": {},
   "outputs": [
    {
     "name": "stdout",
     "output_type": "stream",
     "text": [
      "\n",
      "Missing Values in Matches Dataset:\n",
      "id                   0\n",
      "season               0\n",
      "city                 7\n",
      "date                 0\n",
      "team1                0\n",
      "team2                0\n",
      "toss_winner          0\n",
      "toss_decision        0\n",
      "result               0\n",
      "dl_applied           0\n",
      "winner               4\n",
      "win_by_runs          0\n",
      "win_by_wickets       0\n",
      "player_of_match      4\n",
      "venue                0\n",
      "umpire1              2\n",
      "umpire2              2\n",
      "umpire3            637\n",
      "dtype: int64\n"
     ]
    }
   ],
   "source": [
    "\n",
    "print(\"\\nMissing Values in Matches Dataset:\")\n",
    "print(matches_df.isnull().sum())"
   ]
  }
 ],
 "metadata": {
  "kernelspec": {
   "display_name": "venv",
   "language": "python",
   "name": "python3"
  },
  "language_info": {
   "codemirror_mode": {
    "name": "ipython",
    "version": 3
   },
   "file_extension": ".py",
   "mimetype": "text/x-python",
   "name": "python",
   "nbconvert_exporter": "python",
   "pygments_lexer": "ipython3",
   "version": "3.12.3"
  }
 },
 "nbformat": 4,
 "nbformat_minor": 2
}
